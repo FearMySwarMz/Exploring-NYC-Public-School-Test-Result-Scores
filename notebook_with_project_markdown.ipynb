{
 "cells": [
  {
   "cell_type": "markdown",
   "id": "821eb675",
   "metadata": {},
   "source": [
    "### 🎯 Ερώτημα 1: Σχολεία με τις καλύτερες επιδόσεις στα Μαθηματικά\n",
    "Σε αυτό το κελί, εντοπίζουμε σχολεία όπου ο μέσος όρος στο SAT Math είναι τουλάχιστον 640 (80% του μέγιστου σκορ των 800). Αποθηκεύουμε τα αποτελέσματα στο DataFrame `best_math_schools`, ταξινομημένα κατά φθίνουσα σειρά του `average_math`."
   ]
  },
  {
   "cell_type": "code",
   "execution_count": 1,
   "id": "d0eb4f16-5a99-460d-a5ba-706b7ef0bbe7",
   "metadata": {
    "executionCancelledAt": null,
    "executionTime": null,
    "id": "bA5ajAmk7XH6",
    "lastExecutedAt": null,
    "lastExecutedByKernel": null,
    "lastScheduledRunId": null,
    "lastSuccessfullyExecutedCode": null,
    "outputsMetadata": {
     "0": {
      "height": 550,
      "tableState": {
       "customFilter": {
        "const": {
         "type": "boolean",
         "valid": true,
         "value": true
        },
        "id": "35783e08-e851-4538-94aa-73dd3da0680c",
        "nodeType": "const"
       }
      },
      "type": "dataFrame"
     }
    }
   },
   "outputs": [
    {
     "data": {
      "application/com.datacamp.data-table.v2+json": {
       "table": {
        "data": {
         "average_math": [
          657,
          395,
          418,
          613,
          410
         ],
         "average_reading": [
          601,
          411,
          428,
          453,
          406
         ],
         "average_writing": [
          601,
          387,
          415,
          463,
          381
         ],
         "borough": [
          "Manhattan",
          "Manhattan",
          "Manhattan",
          "Manhattan",
          "Manhattan"
         ],
         "building_code": [
          "M022",
          "M445",
          "M445",
          "M445",
          "M056"
         ],
         "index": [
          0,
          1,
          2,
          3,
          4
         ],
         "percent_tested": [
          null,
          78.9,
          65.1,
          95.9,
          59.7
         ],
         "school_name": [
          "New Explorations into Science, Technology and Math High School",
          "Essex Street Academy",
          "Lower Manhattan Arts Academy",
          "High School for Dual Language and Asian Studies",
          "Henry Street School for International Studies"
         ]
        },
        "schema": {
         "fields": [
          {
           "name": "index",
           "type": "integer"
          },
          {
           "name": "school_name",
           "type": "string"
          },
          {
           "name": "borough",
           "type": "string"
          },
          {
           "name": "building_code",
           "type": "string"
          },
          {
           "name": "average_math",
           "type": "integer"
          },
          {
           "name": "average_reading",
           "type": "integer"
          },
          {
           "name": "average_writing",
           "type": "integer"
          },
          {
           "name": "percent_tested",
           "type": "number"
          }
         ],
         "pandas_version": "1.4.0",
         "primaryKey": [
          "index"
         ]
        }
       },
       "total_rows": 5,
       "truncation_type": null
      },
      "text/html": [
       "<div>\n",
       "<style scoped>\n",
       "    .dataframe tbody tr th:only-of-type {\n",
       "        vertical-align: middle;\n",
       "    }\n",
       "\n",
       "    .dataframe tbody tr th {\n",
       "        vertical-align: top;\n",
       "    }\n",
       "\n",
       "    .dataframe thead th {\n",
       "        text-align: right;\n",
       "    }\n",
       "</style>\n",
       "<table border=\"1\" class=\"dataframe\">\n",
       "  <thead>\n",
       "    <tr style=\"text-align: right;\">\n",
       "      <th></th>\n",
       "      <th>school_name</th>\n",
       "      <th>borough</th>\n",
       "      <th>building_code</th>\n",
       "      <th>average_math</th>\n",
       "      <th>average_reading</th>\n",
       "      <th>average_writing</th>\n",
       "      <th>percent_tested</th>\n",
       "    </tr>\n",
       "  </thead>\n",
       "  <tbody>\n",
       "    <tr>\n",
       "      <th>0</th>\n",
       "      <td>New Explorations into Science, Technology and ...</td>\n",
       "      <td>Manhattan</td>\n",
       "      <td>M022</td>\n",
       "      <td>657</td>\n",
       "      <td>601</td>\n",
       "      <td>601</td>\n",
       "      <td>NaN</td>\n",
       "    </tr>\n",
       "    <tr>\n",
       "      <th>1</th>\n",
       "      <td>Essex Street Academy</td>\n",
       "      <td>Manhattan</td>\n",
       "      <td>M445</td>\n",
       "      <td>395</td>\n",
       "      <td>411</td>\n",
       "      <td>387</td>\n",
       "      <td>78.9</td>\n",
       "    </tr>\n",
       "    <tr>\n",
       "      <th>2</th>\n",
       "      <td>Lower Manhattan Arts Academy</td>\n",
       "      <td>Manhattan</td>\n",
       "      <td>M445</td>\n",
       "      <td>418</td>\n",
       "      <td>428</td>\n",
       "      <td>415</td>\n",
       "      <td>65.1</td>\n",
       "    </tr>\n",
       "    <tr>\n",
       "      <th>3</th>\n",
       "      <td>High School for Dual Language and Asian Studies</td>\n",
       "      <td>Manhattan</td>\n",
       "      <td>M445</td>\n",
       "      <td>613</td>\n",
       "      <td>453</td>\n",
       "      <td>463</td>\n",
       "      <td>95.9</td>\n",
       "    </tr>\n",
       "    <tr>\n",
       "      <th>4</th>\n",
       "      <td>Henry Street School for International Studies</td>\n",
       "      <td>Manhattan</td>\n",
       "      <td>M056</td>\n",
       "      <td>410</td>\n",
       "      <td>406</td>\n",
       "      <td>381</td>\n",
       "      <td>59.7</td>\n",
       "    </tr>\n",
       "  </tbody>\n",
       "</table>\n",
       "</div>"
      ],
      "text/plain": [
       "                                         school_name  ... percent_tested\n",
       "0  New Explorations into Science, Technology and ...  ...            NaN\n",
       "1                               Essex Street Academy  ...           78.9\n",
       "2                       Lower Manhattan Arts Academy  ...           65.1\n",
       "3    High School for Dual Language and Asian Studies  ...           95.9\n",
       "4      Henry Street School for International Studies  ...           59.7\n",
       "\n",
       "[5 rows x 7 columns]"
      ]
     },
     "execution_count": 1,
     "metadata": {
      "application/com.datacamp.data-table.v2+json": {
       "status": "success"
      }
     },
     "output_type": "execute_result"
    }
   ],
   "source": [
    "# Re-run this cell \n",
    "import pandas as pd\n",
    "\n",
    "# Read in the data\n",
    "schools = pd.read_csv(\"schools.csv\")\n",
    "\n",
    "# Preview the data\n",
    "schools.head()\n",
    "\n",
    "# Start coding here...\n",
    "# Add as many cells as you like...\n"
   ]
  },
  {
   "cell_type": "markdown",
   "id": "482717bf",
   "metadata": {},
   "source": [
    "### 🏆 Ερώτημα 2: Top 10 Σχολεία βάσει συνολικού SAT\n",
    "Υπολογίζουμε το συνολικό SAT σκορ (`total_SAT`) προσθέτοντας τα σκορ στα μαθηματικά, ανάγνωση και γραφή. Κατατάσσουμε τα σχολεία κατά φθίνουσα σειρά και αποθηκεύουμε τα 10 πρώτα σε ένα DataFrame `top_10_schools`."
   ]
  },
  {
   "cell_type": "code",
   "execution_count": 2,
   "id": "504c0f73-42f4-4e71-be4c-1a64bb435367",
   "metadata": {
    "executionCancelledAt": null,
    "executionTime": 52,
    "lastExecutedAt": 1750266711220,
    "lastExecutedByKernel": "c3cec5d3-822d-42ef-8992-c14181c9626c",
    "lastScheduledRunId": null,
    "lastSuccessfullyExecutedCode": "schools_filtered = schools.loc[:, ['school_name', 'average_math']]\n",
    "outputsMetadata": {
     "0": {
      "height": 500,
      "tableState": {},
      "type": "dataFrame"
     }
    }
   },
   "outputs": [],
   "source": [
    "schools_filtered = schools.loc[:, ['school_name', 'average_math']]\n"
   ]
  },
  {
   "cell_type": "markdown",
   "id": "5c5a6da8",
   "metadata": {},
   "source": [
    "### 📊 Ερώτημα 3: Borough με τη μεγαλύτερη τυπική απόκλιση στο συνολικό SAT\n",
    "Ομαδοποιούμε τα σχολεία ανά `borough` και υπολογίζουμε για κάθε μία:\n",
    "- Τον αριθμό σχολείων (`num_schools`)\n",
    "- Τον μέσο όρο του `total_SAT` (`average_SAT`)\n",
    "- Την τυπική απόκλιση του `total_SAT` (`std_SAT`)\n",
    "Εντοπίζουμε το borough με τη μεγαλύτερη `std_SAT` και αποθηκεύουμε τα αποτελέσματα στο DataFrame `largest_std_dev`.\n",
    "Όλες οι αριθμητικές τιμές στρογγυλοποιούνται σε 2 δεκαδικά ψηφία."
   ]
  },
  {
   "cell_type": "code",
   "execution_count": 3,
   "id": "1df13f22-ac7e-4e91-801d-b10b4b669312",
   "metadata": {
    "executionCancelledAt": null,
    "executionTime": null,
    "lastExecutedAt": null,
    "lastExecutedByKernel": null,
    "lastScheduledRunId": null,
    "lastSuccessfullyExecutedCode": null,
    "outputsMetadata": {
     "0": {
      "chartState": {
       "activeTab": "data",
       "chartModel": {
        "cellRange": {
         "columns": [],
         "rowEndIndex": null,
         "rowEndPinned": null,
         "rowStartIndex": null,
         "rowStartPinned": null
        },
        "chartId": "id-2szjfr9t4rl",
        "chartOptions": {
         "common": {
          "animation": {
           "enabled": true
          }
         }
        },
        "chartPalette": {
         "altDown": {
          "fill": "#ffa03a",
          "stroke": "#cc6f10"
         },
         "altNeutral": {
          "fill": "#b5b5b5",
          "stroke": "#575757"
         },
         "altUp": {
          "fill": "#5090dc",
          "stroke": "#2b5c95"
         },
         "down": {
          "fill": "#ef5452",
          "stroke": "#a82529"
         },
         "fills": [
          "#6568A0",
          "#43D7A4",
          "#4095DB",
          "#FACC5F",
          "#CAE279",
          "#F08083",
          "#5BCDF2",
          "#F099DC",
          "#965858",
          "#7DB64F",
          "#A98954"
         ],
         "neutral": {
          "fill": "#b5b5b5",
          "stroke": "#575757"
         },
         "strokes": [
          "#6568A0",
          "#43D7A4",
          "#4095DB",
          "#FACC5F",
          "#CAE279",
          "#F08083",
          "#5BCDF2",
          "#F099DC",
          "#965858",
          "#7DB64F",
          "#A98954"
         ],
         "up": {
          "fill": "#459d55",
          "stroke": "#1e652e"
         }
        },
        "chartThemeName": "datalabTheme",
        "chartType": "groupedColumn",
        "modelType": "range",
        "suppressChartRanges": false,
        "switchCategorySeries": false,
        "unlinkChart": false,
        "version": "32.2.2"
       },
       "rangeChartModel": {
        "rangeColumns": [],
        "switchCategorySeries": false
       }
      },
      "height": 550,
      "tableState": {
       "customFilter": {
        "const": {
         "type": "boolean",
         "valid": true,
         "value": true
        },
        "id": "35783e08-e851-4538-94aa-73dd3da0680c",
        "nodeType": "const"
       }
      },
      "type": "dataFrame"
     }
    },
    "version": "ag-charts-v1",
    "visualizeDataframe": false
   },
   "outputs": [
    {
     "data": {
      "application/com.datacamp.data-table.v2+json": {
       "table": {
        "data": {
         "average_math": [
          754,
          714,
          711,
          701,
          683
         ],
         "index": [
          88,
          170,
          93,
          365,
          68
         ],
         "school_name": [
          "Stuyvesant High School",
          "Bronx High School of Science",
          "Staten Island Technical High School",
          "Queens High School for the Sciences at York College",
          "High School for Mathematics, Science, and Engineering at City College"
         ]
        },
        "schema": {
         "fields": [
          {
           "name": "index",
           "type": "integer"
          },
          {
           "name": "school_name",
           "type": "string"
          },
          {
           "name": "average_math",
           "type": "integer"
          }
         ],
         "pandas_version": "1.4.0",
         "primaryKey": [
          "index"
         ]
        }
       },
       "total_rows": 5,
       "truncation_type": null
      },
      "text/html": [
       "<div>\n",
       "<style scoped>\n",
       "    .dataframe tbody tr th:only-of-type {\n",
       "        vertical-align: middle;\n",
       "    }\n",
       "\n",
       "    .dataframe tbody tr th {\n",
       "        vertical-align: top;\n",
       "    }\n",
       "\n",
       "    .dataframe thead th {\n",
       "        text-align: right;\n",
       "    }\n",
       "</style>\n",
       "<table border=\"1\" class=\"dataframe\">\n",
       "  <thead>\n",
       "    <tr style=\"text-align: right;\">\n",
       "      <th></th>\n",
       "      <th>school_name</th>\n",
       "      <th>average_math</th>\n",
       "    </tr>\n",
       "  </thead>\n",
       "  <tbody>\n",
       "    <tr>\n",
       "      <th>88</th>\n",
       "      <td>Stuyvesant High School</td>\n",
       "      <td>754</td>\n",
       "    </tr>\n",
       "    <tr>\n",
       "      <th>170</th>\n",
       "      <td>Bronx High School of Science</td>\n",
       "      <td>714</td>\n",
       "    </tr>\n",
       "    <tr>\n",
       "      <th>93</th>\n",
       "      <td>Staten Island Technical High School</td>\n",
       "      <td>711</td>\n",
       "    </tr>\n",
       "    <tr>\n",
       "      <th>365</th>\n",
       "      <td>Queens High School for the Sciences at York Co...</td>\n",
       "      <td>701</td>\n",
       "    </tr>\n",
       "    <tr>\n",
       "      <th>68</th>\n",
       "      <td>High School for Mathematics, Science, and Engi...</td>\n",
       "      <td>683</td>\n",
       "    </tr>\n",
       "  </tbody>\n",
       "</table>\n",
       "</div>"
      ],
      "text/plain": [
       "                                           school_name  average_math\n",
       "88                              Stuyvesant High School           754\n",
       "170                       Bronx High School of Science           714\n",
       "93                 Staten Island Technical High School           711\n",
       "365  Queens High School for the Sciences at York Co...           701\n",
       "68   High School for Mathematics, Science, and Engi...           683"
      ]
     },
     "execution_count": 3,
     "metadata": {
      "application/com.datacamp.data-table.v2+json": {
       "status": "success"
      }
     },
     "output_type": "execute_result"
    }
   ],
   "source": [
    "best_math_schools=schools_filtered[schools_filtered['average_math']>=0.8*800].sort_values('average_math',ascending=False)\n",
    "\n",
    "best_math_schools.head()\n"
   ]
  }
 ],
 "metadata": {
  "editor": "DataLab",
  "kernelspec": {
   "display_name": "Python 3 (ipykernel)",
   "language": "python",
   "name": "python3"
  },
  "language_info": {
   "codemirror_mode": {
    "name": "ipython",
    "version": 3
   },
   "file_extension": ".py",
   "mimetype": "text/x-python",
   "name": "python",
   "nbconvert_exporter": "python",
   "pygments_lexer": "ipython3",
   "version": "3.8.10"
  }
 },
 "nbformat": 4,
 "nbformat_minor": 5
}
